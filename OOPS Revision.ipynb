{
 "cells": [
  {
   "cell_type": "markdown",
   "metadata": {},
   "source": [
    "### Classes and Objects"
   ]
  },
  {
   "cell_type": "code",
   "execution_count": 9,
   "metadata": {},
   "outputs": [],
   "source": [
    "class Student:\n",
    "    \n",
    "    def __init__(self):\n",
    "        self.name = 'Nihar'\n",
    "        self.age = 20\n",
    "        self.marks = 95\n",
    "        print('I am great')\n",
    "        \n",
    "    def talk(self):\n",
    "        print('Name - ',self.name)\n",
    "        print('Age - ',self.age)\n",
    "        print('Marks - ',self.marks)"
   ]
  },
  {
   "cell_type": "code",
   "execution_count": 31,
   "metadata": {},
   "outputs": [],
   "source": [
    "class Student:\n",
    "    \n",
    "    def __init__(self,name,age,**marks):\n",
    "        \n",
    "        self.name=name\n",
    "        self.age=age\n",
    "        self.marks=marks\n",
    "        \n",
    "    def display(self):\n",
    "        \n",
    "        print('Name - ',self.name)\n",
    "        print('Age - ',self.age)\n",
    "        print('Marks - ',self.marks)"
   ]
  },
  {
   "cell_type": "code",
   "execution_count": 32,
   "metadata": {},
   "outputs": [],
   "source": [
    "s2=Student('Nihar',26,sci=95,eng=96,math=97)"
   ]
  },
  {
   "cell_type": "code",
   "execution_count": 33,
   "metadata": {},
   "outputs": [
    {
     "name": "stdout",
     "output_type": "stream",
     "text": [
      "Name -  Nihar\n",
      "Age -  26\n",
      "Marks -  {'sci': 95, 'eng': 96, 'math': 97}\n"
     ]
    }
   ],
   "source": [
    "s2.display()"
   ]
  },
  {
   "cell_type": "code",
   "execution_count": 34,
   "metadata": {},
   "outputs": [
    {
     "data": {
      "text/plain": [
       "{'sci': 95, 'eng': 96, 'math': 97}"
      ]
     },
     "execution_count": 34,
     "metadata": {},
     "output_type": "execute_result"
    }
   ],
   "source": [
    "s2.marks"
   ]
  },
  {
   "cell_type": "markdown",
   "metadata": {},
   "source": [
    "### Ecapsulation"
   ]
  },
  {
   "cell_type": "code",
   "execution_count": 48,
   "metadata": {},
   "outputs": [],
   "source": [
    "class Car:\n",
    "    \n",
    "    def __init__(self):\n",
    "        self.car='alto'\n",
    "        self._new_speed=60 \n",
    "        self.__new_speed=80 #private attribute\n",
    "        \n",
    "    def get_new_speed(self): #getter function, used to get value of private attribute\n",
    "        return self.__new_speed\n",
    "        \n",
    "    def set_new_speed(self,speed): #setter function, used to set value of private attribute\n",
    "        self.__new_speed=speed\n",
    "        \n",
    "    def __car(self): #This is my private method\n",
    "        print('I am here')\n",
    "    \n",
    "    def mycar(self): #I access the content inside private method by calling it inside another function in my class\n",
    "        self.__car()\n",
    "        "
   ]
  },
  {
   "cell_type": "code",
   "execution_count": 49,
   "metadata": {},
   "outputs": [
    {
     "name": "stdout",
     "output_type": "stream",
     "text": [
      "I am here\n",
      "None\n"
     ]
    }
   ],
   "source": [
    "print(s1.mycar())"
   ]
  },
  {
   "cell_type": "code",
   "execution_count": 40,
   "metadata": {},
   "outputs": [
    {
     "name": "stdout",
     "output_type": "stream",
     "text": [
      "100\n"
     ]
    }
   ],
   "source": [
    "s1.set_new_speed(100)\n",
    "print(s1.get_new_speed())"
   ]
  },
  {
   "cell_type": "markdown",
   "metadata": {},
   "source": [
    "### inheritance"
   ]
  },
  {
   "cell_type": "code",
   "execution_count": 59,
   "metadata": {},
   "outputs": [],
   "source": [
    "class Polygon:\n",
    "    \n",
    "    __width=None\n",
    "    __height=None\n",
    "    \n",
    "    def set_dimensions(self,width,height):\n",
    "        self.__width=width\n",
    "        self.__height=height\n",
    "        \n",
    "    def get_width(self):\n",
    "        return self.__width\n",
    "    \n",
    "    def get_height(self):\n",
    "        return self.__height\n",
    "    \n",
    "    \n",
    "class Shape:\n",
    "    __color=None\n",
    "    \n",
    "    def set_color(self,color):\n",
    "        self.__color=color\n",
    "    \n",
    "    def get_color(self):\n",
    "        return self.__color\n",
    "        \n",
    "class Square(Polygon,Shape):\n",
    "    \n",
    "    def area(self):\n",
    "        return self.get_width()*self.get_height()"
   ]
  },
  {
   "cell_type": "code",
   "execution_count": 60,
   "metadata": {},
   "outputs": [],
   "source": [
    "s1=Square()"
   ]
  },
  {
   "cell_type": "code",
   "execution_count": 61,
   "metadata": {},
   "outputs": [],
   "source": [
    "s1.set_dimensions(10,8)"
   ]
  },
  {
   "cell_type": "code",
   "execution_count": 62,
   "metadata": {},
   "outputs": [
    {
     "data": {
      "text/plain": [
       "80"
      ]
     },
     "execution_count": 62,
     "metadata": {},
     "output_type": "execute_result"
    }
   ],
   "source": [
    "s1.area()"
   ]
  },
  {
   "cell_type": "code",
   "execution_count": 63,
   "metadata": {},
   "outputs": [],
   "source": [
    "s1.set_color('orange')"
   ]
  },
  {
   "cell_type": "code",
   "execution_count": 64,
   "metadata": {},
   "outputs": [
    {
     "data": {
      "text/plain": [
       "'orange'"
      ]
     },
     "execution_count": 64,
     "metadata": {},
     "output_type": "execute_result"
    }
   ],
   "source": [
    "s1.get_color()"
   ]
  },
  {
   "cell_type": "markdown",
   "metadata": {},
   "source": [
    "#### super function"
   ]
  },
  {
   "cell_type": "code",
   "execution_count": 77,
   "metadata": {},
   "outputs": [
    {
     "name": "stdout",
     "output_type": "stream",
     "text": [
      "I am child __init__\n",
      "I am Parent2 __init__\n",
      "I am Parent __init__\n"
     ]
    }
   ],
   "source": [
    "class Parent:\n",
    "    def __init__(self):\n",
    "        print('I am Parent __init__')\n",
    "        \n",
    "class Parent2:\n",
    "    def __init__(self):\n",
    "        print('I am Parent2 __init__')\n",
    "\n",
    "class Child(Parent2,Parent):\n",
    "    def __init__(self):\n",
    "        print('I am child __init__')\n",
    "        super().__init__()\n",
    "        Parent.__init__(self)\n",
    "\n",
    "s1=Child()"
   ]
  },
  {
   "cell_type": "markdown",
   "metadata": {},
   "source": [
    "### Composition"
   ]
  },
  {
   "cell_type": "code",
   "execution_count": 81,
   "metadata": {},
   "outputs": [
    {
     "name": "stdout",
     "output_type": "stream",
     "text": [
      "47000\n"
     ]
    }
   ],
   "source": [
    "class Salary:\n",
    "    \n",
    "    def __init__(self,pay,rewards):\n",
    "        self.pay=pay\n",
    "        self.rewards=rewards\n",
    "        \n",
    "    def annual_salary(self):\n",
    "        return self.pay+self.rewards\n",
    "    \n",
    "\n",
    "class Employee:\n",
    "    \n",
    "    def __init__(self,name,designation,pay,rewards):\n",
    "        self.name=name\n",
    "        self.des=designation\n",
    "        self.final_salary=Salary(pay,rewards)\n",
    "    \n",
    "    \n",
    "emp=Employee('Nihar','PD',24000,23000)\n",
    "print(emp.final_salary.annual_salary())"
   ]
  },
  {
   "cell_type": "markdown",
   "metadata": {},
   "source": [
    "### Aggregation"
   ]
  },
  {
   "cell_type": "code",
   "execution_count": 82,
   "metadata": {},
   "outputs": [
    {
     "name": "stdout",
     "output_type": "stream",
     "text": [
      "47000\n"
     ]
    }
   ],
   "source": [
    "class Salary:\n",
    "    \n",
    "    def __init__(self,pay,rewards):\n",
    "        self.pay=pay\n",
    "        self.rewards=rewards\n",
    "        \n",
    "    def annual_salary(self):\n",
    "        return self.pay+self.rewards\n",
    "    \n",
    "class Employee:\n",
    "    \n",
    "    def __init__(self,name,designation,sal):\n",
    "        self.name=name\n",
    "        self.des=designation\n",
    "        self.final_salary=sal\n",
    "    \n",
    "sal=Salary(23000,24000)    \n",
    "emp=Employee('Nihar','PD',sal.annual_salary())\n",
    "print(emp.final_salary)"
   ]
  },
  {
   "cell_type": "markdown",
   "metadata": {},
   "source": [
    "### Abstract Classes"
   ]
  },
  {
   "cell_type": "code",
   "execution_count": 85,
   "metadata": {},
   "outputs": [],
   "source": [
    "from abc import ABC, abstractmethod\n",
    "\n",
    "class Shape(ABC):\n",
    "    def __init__(self):\n",
    "        pass\n",
    "    @abstractmethod\n",
    "    def area(self):\n",
    "        pass\n",
    "    @abstractmethod\n",
    "    def perimeter(self):\n",
    "        pass\n",
    "    \n",
    "class Square(Shape):\n",
    "    def __init__(self,side):\n",
    "        self.side=side\n",
    "    \n",
    "    def area(self):\n",
    "        return self.side*self.side\n",
    "    \n",
    "    def perimeter(self):\n",
    "        return self.side*2\n",
    "        "
   ]
  },
  {
   "cell_type": "code",
   "execution_count": 89,
   "metadata": {},
   "outputs": [],
   "source": [
    "s1=Square(4)"
   ]
  },
  {
   "cell_type": "code",
   "execution_count": 90,
   "metadata": {},
   "outputs": [
    {
     "data": {
      "text/plain": [
       "16"
      ]
     },
     "execution_count": 90,
     "metadata": {},
     "output_type": "execute_result"
    }
   ],
   "source": [
    "s1.area()"
   ]
  },
  {
   "cell_type": "code",
   "execution_count": 91,
   "metadata": {},
   "outputs": [
    {
     "data": {
      "text/plain": [
       "8"
      ]
     },
     "execution_count": 91,
     "metadata": {},
     "output_type": "execute_result"
    }
   ],
   "source": [
    "s1.perimeter()"
   ]
  },
  {
   "cell_type": "markdown",
   "metadata": {},
   "source": [
    "### operator overloading"
   ]
  },
  {
   "cell_type": "code",
   "execution_count": 103,
   "metadata": {},
   "outputs": [
    {
     "name": "stdout",
     "output_type": "stream",
     "text": [
      "6\n",
      "2\n",
      "8\n"
     ]
    }
   ],
   "source": [
    "class Books:\n",
    "    def __init__(self,numb):\n",
    "        self.num=numb\n",
    "        \n",
    "    def __add__(self,other):\n",
    "        return self.num+other.num\n",
    "    \n",
    "    def __sub__(self,other):\n",
    "        return self.num-other.num\n",
    "    \n",
    "    def __mul__(self,other):\n",
    "        return self.num*other.num\n",
    "    \n",
    "b1=Books(2)\n",
    "b2=Books(4)\n",
    "print(b1+b2)\n",
    "print(b2-b1)\n",
    "print(b2*b1)"
   ]
  },
  {
   "cell_type": "code",
   "execution_count": 106,
   "metadata": {},
   "outputs": [
    {
     "name": "stdout",
     "output_type": "stream",
     "text": [
      "False\n",
      "100\n"
     ]
    }
   ],
   "source": [
    "class Books:\n",
    "    def __init__(self,numb):\n",
    "        self.num=numb\n",
    "        \n",
    "    def __add__(self,other):\n",
    "        return self.num+other.num\n",
    "    \n",
    "    def __sub__(self,other):\n",
    "        return self.num-other.num\n",
    "    \n",
    "    def __mul__(self,other):\n",
    "        return self.num*other.num\n",
    "    \n",
    "    def __gt__(self,other):\n",
    "        return self.num>other.num\n",
    "    \n",
    "python=Books(380)\n",
    "java=Books(480)\n",
    "print(python>java)\n",
    "print(java-python)"
   ]
  },
  {
   "cell_type": "code",
   "execution_count": 108,
   "metadata": {},
   "outputs": [
    {
     "data": {
      "text/plain": [
       "False"
      ]
     },
     "execution_count": 108,
     "metadata": {},
     "output_type": "execute_result"
    }
   ],
   "source": [
    "class Python:\n",
    "    def __init__(self,page):\n",
    "        self.page=page\n",
    "        \n",
    "    def __gt__(self,other):\n",
    "        return self.page>other.page\n",
    "        \n",
    "        \n",
    "class Java:\n",
    "    def __init__(self,page):\n",
    "        self.page=page\n",
    "    \n",
    "b1=Python(380)\n",
    "b2=Java(480)\n",
    "b1>b2"
   ]
  },
  {
   "cell_type": "markdown",
   "metadata": {},
   "source": [
    "### Enumerate,Zip and yield"
   ]
  },
  {
   "cell_type": "code",
   "execution_count": 109,
   "metadata": {},
   "outputs": [
    {
     "name": "stdout",
     "output_type": "stream",
     "text": [
      "0 20\n",
      "1 21\n",
      "2 22\n",
      "3 23\n"
     ]
    }
   ],
   "source": [
    "list_1=[20,21,22,23]\n",
    "for i,v in enumerate(list_1):\n",
    "    print(i,v)"
   ]
  },
  {
   "cell_type": "code",
   "execution_count": 110,
   "metadata": {},
   "outputs": [
    {
     "name": "stdout",
     "output_type": "stream",
     "text": [
      "(20, 30)\n",
      "(21, 31)\n",
      "(22, 32)\n",
      "(23, 33)\n"
     ]
    }
   ],
   "source": [
    "list_1=[20,21,22,23]\n",
    "list_2=[30,31,32,33]\n",
    "x=zip(list_1,list_2)\n",
    "for i in x:\n",
    "    print(i)"
   ]
  },
  {
   "cell_type": "code",
   "execution_count": 115,
   "metadata": {},
   "outputs": [],
   "source": [
    "def even():\n",
    "    for i in range(0,100):\n",
    "        if i%2==0:\n",
    "            yield i\n",
    "        \n",
    "result=even()"
   ]
  },
  {
   "cell_type": "code",
   "execution_count": 118,
   "metadata": {},
   "outputs": [
    {
     "name": "stdout",
     "output_type": "stream",
     "text": [
      "0\n",
      "2\n",
      "4\n",
      "6\n",
      "8\n"
     ]
    }
   ],
   "source": [
    "for i in range(0,5):\n",
    "    print(next(result))"
   ]
  },
  {
   "cell_type": "code",
   "execution_count": null,
   "metadata": {},
   "outputs": [],
   "source": []
  }
 ],
 "metadata": {
  "kernelspec": {
   "display_name": "Python 3",
   "language": "python",
   "name": "python3"
  },
  "language_info": {
   "codemirror_mode": {
    "name": "ipython",
    "version": 3
   },
   "file_extension": ".py",
   "mimetype": "text/x-python",
   "name": "python",
   "nbconvert_exporter": "python",
   "pygments_lexer": "ipython3",
   "version": "3.7.3"
  }
 },
 "nbformat": 4,
 "nbformat_minor": 2
}
